{
 "cells": [
  {
   "cell_type": "code",
   "execution_count": 1,
   "id": "fbbb73ec-ecc8-4835-913a-eac22736dcce",
   "metadata": {},
   "outputs": [],
   "source": [
    "a=10 # here in a variable store (using assign operator) 10"
   ]
  },
  {
   "cell_type": "code",
   "execution_count": 2,
   "id": "0df73408-27e7-482e-a616-71a59c097af7",
   "metadata": {},
   "outputs": [
    {
     "data": {
      "text/plain": [
       "10"
      ]
     },
     "execution_count": 2,
     "metadata": {},
     "output_type": "execute_result"
    }
   ],
   "source": [
    "a"
   ]
  },
  {
   "cell_type": "code",
   "execution_count": 3,
   "id": "56ddf11c-8710-41b5-9224-610b72564b5a",
   "metadata": {},
   "outputs": [
    {
     "data": {
      "text/plain": [
       "int"
      ]
     },
     "execution_count": 3,
     "metadata": {},
     "output_type": "execute_result"
    }
   ],
   "source": [
    "type(a) # using type function we are chacking the type of a variable"
   ]
  },
  {
   "cell_type": "code",
   "execution_count": 4,
   "id": "77ffcfa1-55ee-43e3-adde-f6cf509dedfc",
   "metadata": {},
   "outputs": [],
   "source": [
    "b=10.5 # here in b variable store (using assign operator) 10.5"
   ]
  },
  {
   "cell_type": "code",
   "execution_count": 5,
   "id": "fb3e1654-cd2c-4e17-85bc-d75bc2e50cf9",
   "metadata": {},
   "outputs": [
    {
     "data": {
      "text/plain": [
       "10.5"
      ]
     },
     "execution_count": 5,
     "metadata": {},
     "output_type": "execute_result"
    }
   ],
   "source": [
    "b"
   ]
  },
  {
   "cell_type": "code",
   "execution_count": 6,
   "id": "f81ef405-c2f6-4801-a1ef-98d9b9c5790f",
   "metadata": {},
   "outputs": [
    {
     "data": {
      "text/plain": [
       "float"
      ]
     },
     "execution_count": 6,
     "metadata": {},
     "output_type": "execute_result"
    }
   ],
   "source": [
    "type(b) # using type function we are chacking the type of b variable"
   ]
  },
  {
   "cell_type": "code",
   "execution_count": 7,
   "id": "34f4acc9-4ec6-4dd0-b81f-f56c6641e27f",
   "metadata": {},
   "outputs": [],
   "source": [
    "c='vishnu' # here in c variable store (using assign operator) vishnu"
   ]
  },
  {
   "cell_type": "code",
   "execution_count": 8,
   "id": "d787c534-0898-47eb-9194-c0457ea2a796",
   "metadata": {},
   "outputs": [
    {
     "data": {
      "text/plain": [
       "'vishnu'"
      ]
     },
     "execution_count": 8,
     "metadata": {},
     "output_type": "execute_result"
    }
   ],
   "source": [
    "c"
   ]
  },
  {
   "cell_type": "code",
   "execution_count": 9,
   "id": "1989bec2-d9d5-44b1-9831-9be3cbcf5122",
   "metadata": {},
   "outputs": [
    {
     "data": {
      "text/plain": [
       "str"
      ]
     },
     "execution_count": 9,
     "metadata": {},
     "output_type": "execute_result"
    }
   ],
   "source": [
    "type(c) # using type function we are chacking the type of c variable"
   ]
  },
  {
   "cell_type": "markdown",
   "id": "6c1bfd8d-b6da-435d-a7fb-eaf671588ee9",
   "metadata": {},
   "source": [
    "# data type in python are dynamic"
   ]
  },
  {
   "cell_type": "code",
   "execution_count": 35,
   "id": "d8848852-1479-4a22-be24-75bade7bfd83",
   "metadata": {},
   "outputs": [],
   "source": [
    "a=10"
   ]
  },
  {
   "cell_type": "code",
   "execution_count": 36,
   "id": "19007ca7-6853-4933-8d69-25868b6890e9",
   "metadata": {},
   "outputs": [
    {
     "data": {
      "text/plain": [
       "10"
      ]
     },
     "execution_count": 36,
     "metadata": {},
     "output_type": "execute_result"
    }
   ],
   "source": [
    "a"
   ]
  },
  {
   "cell_type": "code",
   "execution_count": 37,
   "id": "5624f14f-38dd-4696-9ea8-632fe1bc07d5",
   "metadata": {},
   "outputs": [
    {
     "data": {
      "text/plain": [
       "int"
      ]
     },
     "execution_count": 37,
     "metadata": {},
     "output_type": "execute_result"
    }
   ],
   "source": [
    "type(a)"
   ]
  },
  {
   "cell_type": "code",
   "execution_count": 38,
   "id": "44d30eae-c819-44bd-8413-dfbfdea49aa3",
   "metadata": {},
   "outputs": [],
   "source": [
    "a=10.3"
   ]
  },
  {
   "cell_type": "code",
   "execution_count": 39,
   "id": "9d2ee815-5f51-4006-8c55-b35d74c5c70c",
   "metadata": {},
   "outputs": [
    {
     "data": {
      "text/plain": [
       "10.3"
      ]
     },
     "execution_count": 39,
     "metadata": {},
     "output_type": "execute_result"
    }
   ],
   "source": [
    "a"
   ]
  },
  {
   "cell_type": "code",
   "execution_count": 40,
   "id": "1de38d5b-8159-4304-8cde-207fe2f00393",
   "metadata": {},
   "outputs": [
    {
     "data": {
      "text/plain": [
       "float"
      ]
     },
     "execution_count": 40,
     "metadata": {},
     "output_type": "execute_result"
    }
   ],
   "source": [
    "type(a)"
   ]
  },
  {
   "cell_type": "code",
   "execution_count": 41,
   "id": "7cc3dec7-a031-409c-880a-efdf60773c69",
   "metadata": {},
   "outputs": [],
   "source": [
    "a='vishnu'"
   ]
  },
  {
   "cell_type": "code",
   "execution_count": 42,
   "id": "8e343ac9-2316-44c3-9721-cd64241117e2",
   "metadata": {},
   "outputs": [
    {
     "data": {
      "text/plain": [
       "'vishnu'"
      ]
     },
     "execution_count": 42,
     "metadata": {},
     "output_type": "execute_result"
    }
   ],
   "source": [
    "a"
   ]
  },
  {
   "cell_type": "code",
   "execution_count": 43,
   "id": "fe56ded5-0530-44c4-b784-f72e3b73b508",
   "metadata": {},
   "outputs": [
    {
     "data": {
      "text/plain": [
       "str"
      ]
     },
     "execution_count": 43,
     "metadata": {},
     "output_type": "execute_result"
    }
   ],
   "source": [
    "type(a)"
   ]
  },
  {
   "cell_type": "markdown",
   "id": "06c8004a-e15c-460a-9bac-a5a6561cded8",
   "metadata": {},
   "source": [
    "# size of the datatype is also dynamically managed"
   ]
  },
  {
   "cell_type": "code",
   "execution_count": 63,
   "id": "a144794b-e6fc-4b33-a7e8-75539723e4a5",
   "metadata": {},
   "outputs": [],
   "source": [
    "import sys "
   ]
  },
  {
   "cell_type": "code",
   "execution_count": 23,
   "id": "74bd19a6-171e-43fe-a726-153dbccf34e4",
   "metadata": {},
   "outputs": [],
   "source": [
    "a=10"
   ]
  },
  {
   "cell_type": "code",
   "execution_count": 24,
   "id": "b809fdea-3a74-42c8-9e65-0bff6f89ca7d",
   "metadata": {},
   "outputs": [
    {
     "data": {
      "text/plain": [
       "10"
      ]
     },
     "execution_count": 24,
     "metadata": {},
     "output_type": "execute_result"
    }
   ],
   "source": [
    "a"
   ]
  },
  {
   "cell_type": "code",
   "execution_count": 25,
   "id": "e1a03b74-7780-4fc4-8e15-18a9674f4e62",
   "metadata": {},
   "outputs": [
    {
     "data": {
      "text/plain": [
       "int"
      ]
     },
     "execution_count": 25,
     "metadata": {},
     "output_type": "execute_result"
    }
   ],
   "source": [
    "type(a)"
   ]
  },
  {
   "cell_type": "code",
   "execution_count": 26,
   "id": "6907620f-9d04-435f-a5f8-bf8a854ff887",
   "metadata": {},
   "outputs": [
    {
     "data": {
      "text/plain": [
       "28"
      ]
     },
     "execution_count": 26,
     "metadata": {},
     "output_type": "execute_result"
    }
   ],
   "source": [
    "sys.getsizeof(a) # using function we are find the size taken by variable in memory"
   ]
  },
  {
   "cell_type": "code",
   "execution_count": 27,
   "id": "69248e02-de27-4b21-a70c-55c0714467aa",
   "metadata": {},
   "outputs": [],
   "source": [
    "a=12.12"
   ]
  },
  {
   "cell_type": "code",
   "execution_count": 28,
   "id": "b61f2820-02d3-4a8a-9b63-c8bb47f4d40d",
   "metadata": {},
   "outputs": [
    {
     "data": {
      "text/plain": [
       "12.12"
      ]
     },
     "execution_count": 28,
     "metadata": {},
     "output_type": "execute_result"
    }
   ],
   "source": [
    "a"
   ]
  },
  {
   "cell_type": "code",
   "execution_count": 29,
   "id": "10be46dc-658c-4982-9f06-4435b5315bb0",
   "metadata": {},
   "outputs": [
    {
     "data": {
      "text/plain": [
       "float"
      ]
     },
     "execution_count": 29,
     "metadata": {},
     "output_type": "execute_result"
    }
   ],
   "source": [
    "type(a)"
   ]
  },
  {
   "cell_type": "code",
   "execution_count": 30,
   "id": "02532222-a3a8-42ce-a1b3-3491d10316bb",
   "metadata": {},
   "outputs": [
    {
     "data": {
      "text/plain": [
       "24"
      ]
     },
     "execution_count": 30,
     "metadata": {},
     "output_type": "execute_result"
    }
   ],
   "source": [
    "sys.getsizeof(a)"
   ]
  },
  {
   "cell_type": "code",
   "execution_count": 31,
   "id": "23df3a2d-6b96-47e5-acdf-d984beee8460",
   "metadata": {},
   "outputs": [],
   "source": [
    "a='vishnu'"
   ]
  },
  {
   "cell_type": "code",
   "execution_count": 32,
   "id": "e724258e-bbb9-4d0f-9b95-1e4549190e53",
   "metadata": {},
   "outputs": [
    {
     "data": {
      "text/plain": [
       "'vishnu'"
      ]
     },
     "execution_count": 32,
     "metadata": {},
     "output_type": "execute_result"
    }
   ],
   "source": [
    "a"
   ]
  },
  {
   "cell_type": "code",
   "execution_count": 33,
   "id": "41f5d5d4-6f2e-4c8b-b890-8c74a6a8cb26",
   "metadata": {},
   "outputs": [
    {
     "data": {
      "text/plain": [
       "str"
      ]
     },
     "execution_count": 33,
     "metadata": {},
     "output_type": "execute_result"
    }
   ],
   "source": [
    "type(a)"
   ]
  },
  {
   "cell_type": "code",
   "execution_count": 34,
   "id": "27cc07d7-626c-42bc-8049-8222c9240868",
   "metadata": {},
   "outputs": [
    {
     "data": {
      "text/plain": [
       "55"
      ]
     },
     "execution_count": 34,
     "metadata": {},
     "output_type": "execute_result"
    }
   ],
   "source": [
    "sys.getsizeof(a)"
   ]
  },
  {
   "cell_type": "markdown",
   "id": "b77df255-db77-436e-bda9-8289ba726b66",
   "metadata": {},
   "source": [
    "# data types are unbounded"
   ]
  },
  {
   "cell_type": "code",
   "execution_count": 44,
   "id": "1a5d5b6d-9b0e-4418-a349-2433a53ea639",
   "metadata": {},
   "outputs": [],
   "source": [
    "a=5484894891651516546551364865465484564654654684946512365478999984456663325589966655566668446546548494856682266552333665522"
   ]
  },
  {
   "cell_type": "code",
   "execution_count": 45,
   "id": "776bc3d4-063b-45d5-97a0-92e8c6f6198a",
   "metadata": {},
   "outputs": [
    {
     "data": {
      "text/plain": [
       "5484894891651516546551364865465484564654654684946512365478999984456663325589966655566668446546548494856682266552333665522"
      ]
     },
     "execution_count": 45,
     "metadata": {},
     "output_type": "execute_result"
    }
   ],
   "source": [
    "a"
   ]
  },
  {
   "cell_type": "code",
   "execution_count": 46,
   "id": "8f2a410a-db07-4e5c-bb53-2d38171be232",
   "metadata": {},
   "outputs": [
    {
     "data": {
      "text/plain": [
       "int"
      ]
     },
     "execution_count": 46,
     "metadata": {},
     "output_type": "execute_result"
    }
   ],
   "source": [
    "type(a)"
   ]
  },
  {
   "cell_type": "code",
   "execution_count": 47,
   "id": "13ef0ac6-9537-4519-adab-16e8857bf975",
   "metadata": {},
   "outputs": [
    {
     "data": {
      "text/plain": [
       "80"
      ]
     },
     "execution_count": 47,
     "metadata": {},
     "output_type": "execute_result"
    }
   ],
   "source": [
    "sys.getsizeof(a)"
   ]
  },
  {
   "cell_type": "markdown",
   "id": "013816e8-1df1-458b-8681-39b0110dec75",
   "metadata": {},
   "source": [
    "## data type"
   ]
  },
  {
   "cell_type": "markdown",
   "id": "712ab896-7b7f-475d-b9f6-c545e95b16ce",
   "metadata": {},
   "source": [
    "# numeric data type"
   ]
  },
  {
   "cell_type": "code",
   "execution_count": 49,
   "id": "21304a90-80e1-4b2b-a703-40102b6852e7",
   "metadata": {},
   "outputs": [
    {
     "name": "stdout",
     "output_type": "stream",
     "text": [
      "10\n",
      "20\n",
      "40\n"
     ]
    }
   ],
   "source": [
    "a=10\n",
    "b=20\n",
    "c=40\n",
    "print(a)\n",
    "print(b)\n",
    "print(c)"
   ]
  },
  {
   "cell_type": "code",
   "execution_count": 52,
   "id": "60d4d581-fb61-4e28-a107-8146fb92299e",
   "metadata": {},
   "outputs": [
    {
     "name": "stdout",
     "output_type": "stream",
     "text": [
      "<class 'float'>\n",
      "<class 'float'>\n",
      "<class 'float'>\n"
     ]
    }
   ],
   "source": [
    "print(type(a))\n",
    "print(type(b))\n",
    "print(type(c))"
   ]
  },
  {
   "cell_type": "markdown",
   "id": "7080690e-d5ae-4252-a915-c4fb651681ed",
   "metadata": {},
   "source": [
    "# float data type"
   ]
  },
  {
   "cell_type": "code",
   "execution_count": 53,
   "id": "fd50c9c7-1685-4560-be00-0597e0049f1f",
   "metadata": {},
   "outputs": [
    {
     "name": "stdout",
     "output_type": "stream",
     "text": [
      "10.4\n",
      "20.5\n",
      "40.5\n"
     ]
    }
   ],
   "source": [
    "a=10.4\n",
    "b=20.5\n",
    "c=40.5\n",
    "print(a)\n",
    "print(b)\n",
    "print(c)"
   ]
  },
  {
   "cell_type": "code",
   "execution_count": 54,
   "id": "4c0128ab-ec5e-4abe-8b3c-d0348f9d5446",
   "metadata": {},
   "outputs": [
    {
     "name": "stdout",
     "output_type": "stream",
     "text": [
      "<class 'float'>\n",
      "<class 'float'>\n",
      "<class 'float'>\n"
     ]
    }
   ],
   "source": [
    "print(type(a))\n",
    "print(type(b))\n",
    "print(type(c))"
   ]
  },
  {
   "cell_type": "markdown",
   "id": "63ea5ceb-9e72-49b7-95b0-a31aa84bd42c",
   "metadata": {},
   "source": [
    "# complex data type"
   ]
  },
  {
   "cell_type": "code",
   "execution_count": 55,
   "id": "3c58041c-a78c-4c9d-ad0d-8275b634b396",
   "metadata": {},
   "outputs": [
    {
     "name": "stdout",
     "output_type": "stream",
     "text": [
      "(2+3j)\n",
      "<class 'complex'>\n"
     ]
    }
   ],
   "source": [
    "a=2+3j\n",
    "print(a)\n",
    "print(type(a))"
   ]
  },
  {
   "cell_type": "markdown",
   "id": "ce686f92-edd9-4166-8fb9-a8c6a40f14d8",
   "metadata": {},
   "source": [
    "# bool data type"
   ]
  },
  {
   "cell_type": "code",
   "execution_count": 57,
   "id": "099503c4-5a53-4ade-9de0-91dba06a2d67",
   "metadata": {},
   "outputs": [
    {
     "data": {
      "text/plain": [
       "bool"
      ]
     },
     "execution_count": 57,
     "metadata": {},
     "output_type": "execute_result"
    }
   ],
   "source": [
    "a=True\n",
    "type(a)"
   ]
  },
  {
   "cell_type": "code",
   "execution_count": 58,
   "id": "c32b29c1-af8f-4536-b737-58be89364962",
   "metadata": {},
   "outputs": [
    {
     "data": {
      "text/plain": [
       "bool"
      ]
     },
     "execution_count": 58,
     "metadata": {},
     "output_type": "execute_result"
    }
   ],
   "source": [
    "a=False\n",
    "type(a)"
   ]
  },
  {
   "cell_type": "code",
   "execution_count": 59,
   "id": "d58021f2-832a-4c47-840e-bb58b46d9d7e",
   "metadata": {},
   "outputs": [
    {
     "data": {
      "text/plain": [
       "2"
      ]
     },
     "execution_count": 59,
     "metadata": {},
     "output_type": "execute_result"
    }
   ],
   "source": [
    "1+1"
   ]
  },
  {
   "cell_type": "code",
   "execution_count": 60,
   "id": "2f02901f-d43b-451c-af0a-afa7fe8c0b2b",
   "metadata": {},
   "outputs": [
    {
     "data": {
      "text/plain": [
       "2"
      ]
     },
     "execution_count": 60,
     "metadata": {},
     "output_type": "execute_result"
    }
   ],
   "source": [
    "True+True # beacuse True denoted by 1 that's why 1+1=2"
   ]
  },
  {
   "cell_type": "code",
   "execution_count": 61,
   "id": "44633522-a1c6-46b7-b84a-a79ff610952b",
   "metadata": {},
   "outputs": [
    {
     "data": {
      "text/plain": [
       "1"
      ]
     },
     "execution_count": 61,
     "metadata": {},
     "output_type": "execute_result"
    }
   ],
   "source": [
    "True+False # beacuse True denoted by 1 and False denoted by 0 that's why 1+0=1"
   ]
  },
  {
   "cell_type": "code",
   "execution_count": 65,
   "id": "3e03bd4e-25b1-4985-8182-023af5a01657",
   "metadata": {},
   "outputs": [
    {
     "name": "stdout",
     "output_type": "stream",
     "text": [
      "28\n",
      "28\n"
     ]
    }
   ],
   "source": [
    "a=True\n",
    "b=False\n",
    "print(sys.getsizeof(a))\n",
    "print(sys.getsizeof(b))"
   ]
  },
  {
   "cell_type": "markdown",
   "id": "3de55df9-026c-4ada-a052-c471775546a6",
   "metadata": {},
   "source": [
    "# string data type"
   ]
  },
  {
   "cell_type": "code",
   "execution_count": 67,
   "id": "3183d2ba-140b-4a20-ba4a-4616df5565c6",
   "metadata": {},
   "outputs": [
    {
     "data": {
      "text/plain": [
       "'vishnu'"
      ]
     },
     "execution_count": 67,
     "metadata": {},
     "output_type": "execute_result"
    }
   ],
   "source": [
    "a='vishnu'\n",
    "a"
   ]
  },
  {
   "cell_type": "code",
   "execution_count": 68,
   "id": "cc6c40a3-747a-4da1-834a-14cb5c1bc032",
   "metadata": {},
   "outputs": [
    {
     "data": {
      "text/plain": [
       "str"
      ]
     },
     "execution_count": 68,
     "metadata": {},
     "output_type": "execute_result"
    }
   ],
   "source": [
    "type(a)"
   ]
  },
  {
   "cell_type": "code",
   "execution_count": 69,
   "id": "d382e0da-a077-4192-919e-f82c03982ff6",
   "metadata": {},
   "outputs": [
    {
     "ename": "SyntaxError",
     "evalue": "unterminated string literal (detected at line 1) (2708478498.py, line 1)",
     "output_type": "error",
     "traceback": [
      "\u001b[1;36m  Cell \u001b[1;32mIn[69], line 1\u001b[1;36m\u001b[0m\n\u001b[1;33m    a='vishnu's python class'\u001b[0m\n\u001b[1;37m                            ^\u001b[0m\n\u001b[1;31mSyntaxError\u001b[0m\u001b[1;31m:\u001b[0m unterminated string literal (detected at line 1)\n"
     ]
    }
   ],
   "source": [
    "a='vishnu's python class'"
   ]
  },
  {
   "cell_type": "code",
   "execution_count": 72,
   "id": "bcb687ca-b780-405b-b516-595e8818a2fe",
   "metadata": {},
   "outputs": [
    {
     "data": {
      "text/plain": [
       "\"vishnu's python class\""
      ]
     },
     "execution_count": 72,
     "metadata": {},
     "output_type": "execute_result"
    }
   ],
   "source": [
    "a=\"vishnu's python class\"\n",
    "a"
   ]
  },
  {
   "cell_type": "code",
   "execution_count": 73,
   "id": "814785e5-ae6d-436c-9ab5-eddc00db671e",
   "metadata": {},
   "outputs": [
    {
     "data": {
      "text/plain": [
       "'vishnu\"s python class'"
      ]
     },
     "execution_count": 73,
     "metadata": {},
     "output_type": "execute_result"
    }
   ],
   "source": [
    "a='vishnu\"s python class'\n",
    "a"
   ]
  },
  {
   "cell_type": "code",
   "execution_count": 74,
   "id": "e2f19651-39c4-49af-9962-9acf903a9f80",
   "metadata": {},
   "outputs": [
    {
     "name": "stdout",
     "output_type": "stream",
     "text": [
      "vishnu\"s python class\n"
     ]
    }
   ],
   "source": [
    "print(a)"
   ]
  },
  {
   "cell_type": "code",
   "execution_count": 76,
   "id": "c557bc45-2fa1-4539-8eaf-f19e0cc80184",
   "metadata": {},
   "outputs": [
    {
     "name": "stdout",
     "output_type": "stream",
     "text": [
      "let's learn learb \"python\" \n"
     ]
    }
   ],
   "source": [
    "y=\"let's learn learb \\\"python\\\" \"\n",
    "print(y)"
   ]
  },
  {
   "cell_type": "code",
   "execution_count": 77,
   "id": "613b7e6d-36b5-4e69-a77c-f2971b097810",
   "metadata": {},
   "outputs": [
    {
     "data": {
      "text/plain": [
       "str"
      ]
     },
     "execution_count": 77,
     "metadata": {},
     "output_type": "execute_result"
    }
   ],
   "source": [
    "type(y)"
   ]
  },
  {
   "cell_type": "code",
   "execution_count": 78,
   "id": "a8380191-8057-40c1-a9b9-7297fcf67a93",
   "metadata": {},
   "outputs": [
    {
     "name": "stdout",
     "output_type": "stream",
     "text": [
      "let's learn learb \"python\" \n"
     ]
    }
   ],
   "source": [
    "y='''let's learn learb \"python\" '''\n",
    "print(y)"
   ]
  },
  {
   "cell_type": "code",
   "execution_count": 79,
   "id": "9e581da7-affa-4a85-ae0d-c099d6dc70c6",
   "metadata": {},
   "outputs": [
    {
     "name": "stdout",
     "output_type": "stream",
     "text": [
      "let's learn learb \"python\" \n"
     ]
    }
   ],
   "source": [
    "y='let\\'s learn learb \"python\" '\n",
    "print(y)"
   ]
  },
  {
   "cell_type": "markdown",
   "id": "0e8477f5-0af2-440e-9570-d6b84399db6f",
   "metadata": {},
   "source": [
    "# multiline string"
   ]
  },
  {
   "cell_type": "code",
   "execution_count": 82,
   "id": "b126a1b4-82f9-4d9a-b7ab-1bb0eed844ab",
   "metadata": {},
   "outputs": [
    {
     "name": "stdout",
     "output_type": "stream",
     "text": [
      "my\n",
      "name\n",
      "is\n",
      "vishnu\n"
     ]
    }
   ],
   "source": [
    "a='''my\n",
    "name\n",
    "is\n",
    "vishnu'''\n",
    "print(a)"
   ]
  },
  {
   "cell_type": "markdown",
   "id": "79304248-3b49-4fd4-b1a7-b3ce36c9a923",
   "metadata": {},
   "source": [
    "# type conversion"
   ]
  },
  {
   "cell_type": "markdown",
   "id": "6c0554b2-7ab1-4723-8a68-ee87f312db34",
   "metadata": {},
   "source": [
    "### convert data from one type to another type like\n",
    "### int <-> float\n",
    "### int -> string\n",
    "### float -> string"
   ]
  },
  {
   "cell_type": "code",
   "execution_count": 89,
   "id": "c737883f-5759-4ce0-a329-fff3a3271f6a",
   "metadata": {},
   "outputs": [
    {
     "name": "stdout",
     "output_type": "stream",
     "text": [
      "100\n",
      "<class 'int'>\n"
     ]
    }
   ],
   "source": [
    "a=100\n",
    "print(a)\n",
    "print(type(a))"
   ]
  },
  {
   "cell_type": "code",
   "execution_count": 91,
   "id": "fde0249c-56f3-4e63-830f-c86325d26714",
   "metadata": {},
   "outputs": [
    {
     "name": "stdout",
     "output_type": "stream",
     "text": [
      "100.0\n",
      "<class 'float'>\n"
     ]
    }
   ],
   "source": [
    "b=float(a)\n",
    "print(b)\n",
    "print(type(b))"
   ]
  },
  {
   "cell_type": "code",
   "execution_count": 92,
   "id": "4534963e-bb6c-447f-9c4e-136dd730221c",
   "metadata": {},
   "outputs": [
    {
     "name": "stdout",
     "output_type": "stream",
     "text": [
      "100\n",
      "<class 'str'>\n"
     ]
    }
   ],
   "source": [
    "c=str(a)\n",
    "print(c)\n",
    "print(type(c))"
   ]
  },
  {
   "cell_type": "code",
   "execution_count": 93,
   "id": "0c2240fa-fb6b-4f9d-8a3a-2386196f7977",
   "metadata": {},
   "outputs": [
    {
     "data": {
      "text/plain": [
       "'100100'"
      ]
     },
     "execution_count": 93,
     "metadata": {},
     "output_type": "execute_result"
    }
   ],
   "source": [
    "c+c"
   ]
  },
  {
   "cell_type": "code",
   "execution_count": 94,
   "id": "9e79c7f4-203e-4333-8ae9-80abe30836af",
   "metadata": {},
   "outputs": [
    {
     "data": {
      "text/plain": [
       "200"
      ]
     },
     "execution_count": 94,
     "metadata": {},
     "output_type": "execute_result"
    }
   ],
   "source": [
    "a+a"
   ]
  },
  {
   "cell_type": "code",
   "execution_count": 95,
   "id": "a8d5018a-65d8-474f-a981-c330bf1faf6b",
   "metadata": {},
   "outputs": [
    {
     "data": {
      "text/plain": [
       "200.0"
      ]
     },
     "execution_count": 95,
     "metadata": {},
     "output_type": "execute_result"
    }
   ],
   "source": [
    "b+b"
   ]
  },
  {
   "cell_type": "markdown",
   "id": "e1bcb67f-05ad-446a-9843-c07c4f7876a8",
   "metadata": {},
   "source": [
    "# implicit conversion"
   ]
  },
  {
   "cell_type": "code",
   "execution_count": 96,
   "id": "54ce20a8-6855-4414-a094-173a3fa59d64",
   "metadata": {},
   "outputs": [
    {
     "data": {
      "text/plain": [
       "12.9"
      ]
     },
     "execution_count": 96,
     "metadata": {},
     "output_type": "execute_result"
    }
   ],
   "source": [
    "a=10\n",
    "b=2.9\n",
    "a+b"
   ]
  },
  {
   "cell_type": "code",
   "execution_count": 97,
   "id": "d8f74da7-269d-4384-af6a-f218fb95b726",
   "metadata": {},
   "outputs": [
    {
     "data": {
      "text/plain": [
       "float"
      ]
     },
     "execution_count": 97,
     "metadata": {},
     "output_type": "execute_result"
    }
   ],
   "source": [
    "type(a+b)"
   ]
  },
  {
   "cell_type": "markdown",
   "id": "99b4f9cc-4a22-4f16-9baa-2a0d6a30bf20",
   "metadata": {},
   "source": [
    "# explicit conversion"
   ]
  },
  {
   "cell_type": "markdown",
   "id": "bc4bec75-6276-44a2-9d51-22ac80b29da0",
   "metadata": {},
   "source": [
    "## int"
   ]
  },
  {
   "cell_type": "code",
   "execution_count": 98,
   "id": "7478c1d0-b4bf-43d9-873f-2c114de5e880",
   "metadata": {},
   "outputs": [
    {
     "data": {
      "text/plain": [
       "2"
      ]
     },
     "execution_count": 98,
     "metadata": {},
     "output_type": "execute_result"
    }
   ],
   "source": [
    "int(2.3)"
   ]
  },
  {
   "cell_type": "code",
   "execution_count": 99,
   "id": "dbd9359f-1dbe-49f9-9a3b-2cb41f74288d",
   "metadata": {},
   "outputs": [
    {
     "data": {
      "text/plain": [
       "1"
      ]
     },
     "execution_count": 99,
     "metadata": {},
     "output_type": "execute_result"
    }
   ],
   "source": [
    "int(True)"
   ]
  },
  {
   "cell_type": "code",
   "execution_count": 100,
   "id": "945b6728-55cf-4b78-b7d9-a8f5415a9e16",
   "metadata": {},
   "outputs": [
    {
     "ename": "TypeError",
     "evalue": "int() argument must be a string, a bytes-like object or a real number, not 'complex'",
     "output_type": "error",
     "traceback": [
      "\u001b[1;31m---------------------------------------------------------------------------\u001b[0m",
      "\u001b[1;31mTypeError\u001b[0m                                 Traceback (most recent call last)",
      "Cell \u001b[1;32mIn[100], line 1\u001b[0m\n\u001b[1;32m----> 1\u001b[0m \u001b[38;5;28mint\u001b[39m(\u001b[38;5;241m3\u001b[39m\u001b[38;5;241m+\u001b[39m\u001b[38;5;241m4\u001b[39mj)\n",
      "\u001b[1;31mTypeError\u001b[0m: int() argument must be a string, a bytes-like object or a real number, not 'complex'"
     ]
    }
   ],
   "source": [
    "int(3+4j)"
   ]
  },
  {
   "cell_type": "code",
   "execution_count": 101,
   "id": "2de684db-011e-4b72-9cb9-8c66a9e556fb",
   "metadata": {},
   "outputs": [
    {
     "data": {
      "text/plain": [
       "23"
      ]
     },
     "execution_count": 101,
     "metadata": {},
     "output_type": "execute_result"
    }
   ],
   "source": [
    "int(\"23\")"
   ]
  },
  {
   "cell_type": "code",
   "execution_count": 102,
   "id": "a472fdc5-f42b-469f-892f-a37017dd9ce2",
   "metadata": {},
   "outputs": [
    {
     "ename": "ValueError",
     "evalue": "invalid literal for int() with base 10: '2.3'",
     "output_type": "error",
     "traceback": [
      "\u001b[1;31m---------------------------------------------------------------------------\u001b[0m",
      "\u001b[1;31mValueError\u001b[0m                                Traceback (most recent call last)",
      "Cell \u001b[1;32mIn[102], line 1\u001b[0m\n\u001b[1;32m----> 1\u001b[0m \u001b[38;5;28mint\u001b[39m(\u001b[38;5;124m\"\u001b[39m\u001b[38;5;124m2.3\u001b[39m\u001b[38;5;124m\"\u001b[39m)\n",
      "\u001b[1;31mValueError\u001b[0m: invalid literal for int() with base 10: '2.3'"
     ]
    }
   ],
   "source": [
    "int(\"2.3\")"
   ]
  },
  {
   "cell_type": "code",
   "execution_count": 103,
   "id": "bfc268dd-7fc5-4f9f-ba9e-79b308c14666",
   "metadata": {},
   "outputs": [
    {
     "data": {
      "text/plain": [
       "1013"
      ]
     },
     "execution_count": 103,
     "metadata": {},
     "output_type": "execute_result"
    }
   ],
   "source": [
    "int(\"1013\")"
   ]
  },
  {
   "cell_type": "code",
   "execution_count": 104,
   "id": "46e58c69-400b-4c6e-bc34-ade2daa49ab0",
   "metadata": {},
   "outputs": [
    {
     "ename": "ValueError",
     "evalue": "invalid literal for int() with base 10: '0b1010'",
     "output_type": "error",
     "traceback": [
      "\u001b[1;31m---------------------------------------------------------------------------\u001b[0m",
      "\u001b[1;31mValueError\u001b[0m                                Traceback (most recent call last)",
      "Cell \u001b[1;32mIn[104], line 1\u001b[0m\n\u001b[1;32m----> 1\u001b[0m \u001b[38;5;28mint\u001b[39m(\u001b[38;5;124m\"\u001b[39m\u001b[38;5;124m0b1010\u001b[39m\u001b[38;5;124m\"\u001b[39m)\n",
      "\u001b[1;31mValueError\u001b[0m: invalid literal for int() with base 10: '0b1010'"
     ]
    }
   ],
   "source": [
    "int(\"0b1010\")"
   ]
  },
  {
   "cell_type": "markdown",
   "id": "fa1f9372-021a-4247-9628-22447a42e1bb",
   "metadata": {},
   "source": [
    "## float"
   ]
  },
  {
   "cell_type": "code",
   "execution_count": 1,
   "id": "3db14d96-8c2e-4a8f-9323-acefddc46890",
   "metadata": {},
   "outputs": [
    {
     "data": {
      "text/plain": [
       "2.3"
      ]
     },
     "execution_count": 1,
     "metadata": {},
     "output_type": "execute_result"
    }
   ],
   "source": [
    "float(2.3)"
   ]
  },
  {
   "cell_type": "code",
   "execution_count": 2,
   "id": "791ba863-16a5-467a-8f44-686059f388c3",
   "metadata": {},
   "outputs": [
    {
     "data": {
      "text/plain": [
       "1.0"
      ]
     },
     "execution_count": 2,
     "metadata": {},
     "output_type": "execute_result"
    }
   ],
   "source": [
    "float(True)"
   ]
  },
  {
   "cell_type": "code",
   "execution_count": 3,
   "id": "bc221a1b-bc5f-4181-9392-57b4a3b63c21",
   "metadata": {},
   "outputs": [
    {
     "ename": "TypeError",
     "evalue": "float() argument must be a string or a real number, not 'complex'",
     "output_type": "error",
     "traceback": [
      "\u001b[1;31m---------------------------------------------------------------------------\u001b[0m",
      "\u001b[1;31mTypeError\u001b[0m                                 Traceback (most recent call last)",
      "Cell \u001b[1;32mIn[3], line 1\u001b[0m\n\u001b[1;32m----> 1\u001b[0m \u001b[38;5;28mfloat\u001b[39m(\u001b[38;5;241m3\u001b[39m\u001b[38;5;241m+\u001b[39m\u001b[38;5;241m4\u001b[39mj)\n",
      "\u001b[1;31mTypeError\u001b[0m: float() argument must be a string or a real number, not 'complex'"
     ]
    }
   ],
   "source": [
    "float(3+4j)"
   ]
  },
  {
   "cell_type": "code",
   "execution_count": 4,
   "id": "9430aebd-83ba-489a-8ac8-0f3e88e9ea68",
   "metadata": {},
   "outputs": [
    {
     "data": {
      "text/plain": [
       "23.0"
      ]
     },
     "execution_count": 4,
     "metadata": {},
     "output_type": "execute_result"
    }
   ],
   "source": [
    "float(\"23\")"
   ]
  },
  {
   "cell_type": "code",
   "execution_count": 5,
   "id": "dde6015e-e9bb-4b19-bdfa-b92f34cce853",
   "metadata": {},
   "outputs": [
    {
     "data": {
      "text/plain": [
       "2.3"
      ]
     },
     "execution_count": 5,
     "metadata": {},
     "output_type": "execute_result"
    }
   ],
   "source": [
    "float(\"2.3\")"
   ]
  },
  {
   "cell_type": "code",
   "execution_count": 6,
   "id": "6478e091-94ac-438d-b878-738fe3bb9a4b",
   "metadata": {},
   "outputs": [
    {
     "data": {
      "text/plain": [
       "1013.0"
      ]
     },
     "execution_count": 6,
     "metadata": {},
     "output_type": "execute_result"
    }
   ],
   "source": [
    "float(\"1013\")"
   ]
  },
  {
   "cell_type": "code",
   "execution_count": 7,
   "id": "9941b1c9-3044-48dc-b833-60cc5bd3a3d2",
   "metadata": {},
   "outputs": [
    {
     "ename": "ValueError",
     "evalue": "could not convert string to float: '0b1010'",
     "output_type": "error",
     "traceback": [
      "\u001b[1;31m---------------------------------------------------------------------------\u001b[0m",
      "\u001b[1;31mValueError\u001b[0m                                Traceback (most recent call last)",
      "Cell \u001b[1;32mIn[7], line 1\u001b[0m\n\u001b[1;32m----> 1\u001b[0m \u001b[38;5;28mfloat\u001b[39m(\u001b[38;5;124m\"\u001b[39m\u001b[38;5;124m0b1010\u001b[39m\u001b[38;5;124m\"\u001b[39m)\n",
      "\u001b[1;31mValueError\u001b[0m: could not convert string to float: '0b1010'"
     ]
    }
   ],
   "source": [
    "float(\"0b1010\")"
   ]
  },
  {
   "cell_type": "markdown",
   "id": "7c77a93c-c73e-4eeb-b7e3-311517437da9",
   "metadata": {},
   "source": [
    "## complex"
   ]
  },
  {
   "cell_type": "code",
   "execution_count": 8,
   "id": "e5246291-4eee-4165-8796-69aa0efa30f2",
   "metadata": {},
   "outputs": [
    {
     "data": {
      "text/plain": [
       "(2.3+0j)"
      ]
     },
     "execution_count": 8,
     "metadata": {},
     "output_type": "execute_result"
    }
   ],
   "source": [
    "complex(2.3)"
   ]
  },
  {
   "cell_type": "code",
   "execution_count": 9,
   "id": "1a9c207d-e972-45e8-8a7f-e2c714670dde",
   "metadata": {},
   "outputs": [
    {
     "data": {
      "text/plain": [
       "(1+0j)"
      ]
     },
     "execution_count": 9,
     "metadata": {},
     "output_type": "execute_result"
    }
   ],
   "source": [
    "complex(True)"
   ]
  },
  {
   "cell_type": "code",
   "execution_count": 10,
   "id": "1d39e82f-d9bc-4e35-ae97-dd4b859b575e",
   "metadata": {},
   "outputs": [
    {
     "data": {
      "text/plain": [
       "(3+4j)"
      ]
     },
     "execution_count": 10,
     "metadata": {},
     "output_type": "execute_result"
    }
   ],
   "source": [
    "complex(3+4j)"
   ]
  },
  {
   "cell_type": "code",
   "execution_count": 11,
   "id": "ec522b48-cf3f-48d7-ae97-f29b950f40d1",
   "metadata": {},
   "outputs": [
    {
     "data": {
      "text/plain": [
       "(23+0j)"
      ]
     },
     "execution_count": 11,
     "metadata": {},
     "output_type": "execute_result"
    }
   ],
   "source": [
    "complex(\"23\")"
   ]
  },
  {
   "cell_type": "code",
   "execution_count": 12,
   "id": "79c65fd5-ad07-468f-a57c-b949a4ca0b4f",
   "metadata": {},
   "outputs": [
    {
     "data": {
      "text/plain": [
       "(2.3+0j)"
      ]
     },
     "execution_count": 12,
     "metadata": {},
     "output_type": "execute_result"
    }
   ],
   "source": [
    "complex(\"2.3\")"
   ]
  },
  {
   "cell_type": "code",
   "execution_count": 13,
   "id": "df710284-0fc5-476b-a6c9-6e5c5e712f2f",
   "metadata": {},
   "outputs": [
    {
     "data": {
      "text/plain": [
       "(1013+0j)"
      ]
     },
     "execution_count": 13,
     "metadata": {},
     "output_type": "execute_result"
    }
   ],
   "source": [
    "complex(\"1013\")"
   ]
  },
  {
   "cell_type": "code",
   "execution_count": 14,
   "id": "28e82d6c-9b21-4591-a00b-283f7837b730",
   "metadata": {},
   "outputs": [
    {
     "ename": "ValueError",
     "evalue": "complex() arg is a malformed string",
     "output_type": "error",
     "traceback": [
      "\u001b[1;31m---------------------------------------------------------------------------\u001b[0m",
      "\u001b[1;31mValueError\u001b[0m                                Traceback (most recent call last)",
      "Cell \u001b[1;32mIn[14], line 1\u001b[0m\n\u001b[1;32m----> 1\u001b[0m \u001b[38;5;28mcomplex\u001b[39m(\u001b[38;5;124m\"\u001b[39m\u001b[38;5;124m0b1010\u001b[39m\u001b[38;5;124m\"\u001b[39m)\n",
      "\u001b[1;31mValueError\u001b[0m: complex() arg is a malformed string"
     ]
    }
   ],
   "source": [
    "complex(\"0b1010\")"
   ]
  },
  {
   "cell_type": "markdown",
   "id": "3cba8194-beff-4bb2-bd6d-62613c9c957b",
   "metadata": {},
   "source": [
    "## bool"
   ]
  },
  {
   "cell_type": "code",
   "execution_count": 15,
   "id": "669bd3ab-2453-4b2c-92d4-3e811f07558b",
   "metadata": {},
   "outputs": [
    {
     "data": {
      "text/plain": [
       "True"
      ]
     },
     "execution_count": 15,
     "metadata": {},
     "output_type": "execute_result"
    }
   ],
   "source": [
    "bool(2.3)"
   ]
  },
  {
   "cell_type": "code",
   "execution_count": 16,
   "id": "f36e1c91-6f27-42fd-b957-fa93ba360f02",
   "metadata": {},
   "outputs": [
    {
     "data": {
      "text/plain": [
       "True"
      ]
     },
     "execution_count": 16,
     "metadata": {},
     "output_type": "execute_result"
    }
   ],
   "source": [
    "bool(True)"
   ]
  },
  {
   "cell_type": "code",
   "execution_count": 17,
   "id": "db96c09a-e007-48f3-8aa8-c5c1faddb39b",
   "metadata": {},
   "outputs": [
    {
     "data": {
      "text/plain": [
       "True"
      ]
     },
     "execution_count": 17,
     "metadata": {},
     "output_type": "execute_result"
    }
   ],
   "source": [
    "bool(3+4j)"
   ]
  },
  {
   "cell_type": "code",
   "execution_count": 18,
   "id": "f70eda0b-0260-4b13-a1ca-ef9f2c659320",
   "metadata": {},
   "outputs": [
    {
     "data": {
      "text/plain": [
       "True"
      ]
     },
     "execution_count": 18,
     "metadata": {},
     "output_type": "execute_result"
    }
   ],
   "source": [
    "bool(\"23\")"
   ]
  },
  {
   "cell_type": "code",
   "execution_count": 19,
   "id": "0c6ab1b7-6486-4452-84a5-d0b2ebb07edc",
   "metadata": {},
   "outputs": [
    {
     "data": {
      "text/plain": [
       "True"
      ]
     },
     "execution_count": 19,
     "metadata": {},
     "output_type": "execute_result"
    }
   ],
   "source": [
    "bool(\"2.3\")"
   ]
  },
  {
   "cell_type": "code",
   "execution_count": 20,
   "id": "92a5b35d-3f85-432c-a29f-ca2d657c7d48",
   "metadata": {},
   "outputs": [
    {
     "data": {
      "text/plain": [
       "True"
      ]
     },
     "execution_count": 20,
     "metadata": {},
     "output_type": "execute_result"
    }
   ],
   "source": [
    "bool(\"1013\")"
   ]
  },
  {
   "cell_type": "code",
   "execution_count": 21,
   "id": "ac21304e-3006-47e3-9a61-8602bf5a5992",
   "metadata": {},
   "outputs": [
    {
     "data": {
      "text/plain": [
       "True"
      ]
     },
     "execution_count": 21,
     "metadata": {},
     "output_type": "execute_result"
    }
   ],
   "source": [
    "bool(\"0b1010\")"
   ]
  },
  {
   "cell_type": "markdown",
   "id": "3b24d7ba-0f51-44b3-b6c6-4829d1d745a1",
   "metadata": {},
   "source": [
    "## string "
   ]
  },
  {
   "cell_type": "code",
   "execution_count": 22,
   "id": "d3a6b775-6068-4089-a44b-4873403ba5c2",
   "metadata": {},
   "outputs": [
    {
     "data": {
      "text/plain": [
       "'2.3'"
      ]
     },
     "execution_count": 22,
     "metadata": {},
     "output_type": "execute_result"
    }
   ],
   "source": [
    "str(2.3)"
   ]
  },
  {
   "cell_type": "code",
   "execution_count": 23,
   "id": "42e8c7cb-2591-458a-a629-eaf5cc8e3aec",
   "metadata": {},
   "outputs": [
    {
     "data": {
      "text/plain": [
       "'True'"
      ]
     },
     "execution_count": 23,
     "metadata": {},
     "output_type": "execute_result"
    }
   ],
   "source": [
    "str(True)"
   ]
  },
  {
   "cell_type": "code",
   "execution_count": 24,
   "id": "d5d7bddf-cc81-4880-bd51-fc6d82d492d5",
   "metadata": {},
   "outputs": [
    {
     "data": {
      "text/plain": [
       "'(3+4j)'"
      ]
     },
     "execution_count": 24,
     "metadata": {},
     "output_type": "execute_result"
    }
   ],
   "source": [
    "str(3+4j)"
   ]
  },
  {
   "cell_type": "code",
   "execution_count": 25,
   "id": "6d66e3b0-1e95-4526-a9c9-1b3a0145ee73",
   "metadata": {},
   "outputs": [
    {
     "data": {
      "text/plain": [
       "'23'"
      ]
     },
     "execution_count": 25,
     "metadata": {},
     "output_type": "execute_result"
    }
   ],
   "source": [
    "str(\"23\")"
   ]
  },
  {
   "cell_type": "code",
   "execution_count": 26,
   "id": "ce101ef7-55a1-4521-a09a-c1dbe92faff1",
   "metadata": {},
   "outputs": [
    {
     "data": {
      "text/plain": [
       "'2.3'"
      ]
     },
     "execution_count": 26,
     "metadata": {},
     "output_type": "execute_result"
    }
   ],
   "source": [
    "str(\"2.3\")"
   ]
  },
  {
   "cell_type": "code",
   "execution_count": 27,
   "id": "1e98a4fd-b01c-40b4-814f-97ec75c9399f",
   "metadata": {},
   "outputs": [
    {
     "data": {
      "text/plain": [
       "'1013'"
      ]
     },
     "execution_count": 27,
     "metadata": {},
     "output_type": "execute_result"
    }
   ],
   "source": [
    "str(\"1013\")"
   ]
  },
  {
   "cell_type": "code",
   "execution_count": 28,
   "id": "26c6601a-b45b-476b-974a-d555b866366e",
   "metadata": {},
   "outputs": [
    {
     "data": {
      "text/plain": [
       "'0b1010'"
      ]
     },
     "execution_count": 28,
     "metadata": {},
     "output_type": "execute_result"
    }
   ],
   "source": [
    "str(\"0b1010\")"
   ]
  },
  {
   "cell_type": "code",
   "execution_count": null,
   "id": "68f73a49-b052-4106-8c71-139139db1b65",
   "metadata": {},
   "outputs": [],
   "source": []
  }
 ],
 "metadata": {
  "kernelspec": {
   "display_name": "Python 3 (ipykernel)",
   "language": "python",
   "name": "python3"
  },
  "language_info": {
   "codemirror_mode": {
    "name": "ipython",
    "version": 3
   },
   "file_extension": ".py",
   "mimetype": "text/x-python",
   "name": "python",
   "nbconvert_exporter": "python",
   "pygments_lexer": "ipython3",
   "version": "3.11.5"
  },
  "widgets": {
   "application/vnd.jupyter.widget-state+json": {
    "state": {},
    "version_major": 2,
    "version_minor": 0
   }
  }
 },
 "nbformat": 4,
 "nbformat_minor": 5
}

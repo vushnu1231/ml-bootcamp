{
 "cells": [
  {
   "cell_type": "code",
   "execution_count": 1,
   "id": "b01563a8-60cc-4f71-92be-f160ad8136d1",
   "metadata": {},
   "outputs": [
    {
     "name": "stdout",
     "output_type": "stream",
     "text": [
      "hello world\n"
     ]
    }
   ],
   "source": [
    "print(\"hello world\")"
   ]
  },
  {
   "cell_type": "code",
   "execution_count": 5,
   "id": "05ddaf81-5c0e-46e0-bc42-0e0c8a00a5b3",
   "metadata": {},
   "outputs": [
    {
     "name": "stdout",
     "output_type": "stream",
     "text": [
      "10\t230\n"
     ]
    }
   ],
   "source": [
    "a=10\n",
    "b=20\n",
    "c=30\n",
    "print(a,end='\\t')\n",
    "print(b,end='\\b')\n",
    "print(c)"
   ]
  },
  {
   "cell_type": "markdown",
   "id": "3057a16e-0295-4236-a599-fb8136c7e51b",
   "metadata": {},
   "source": [
    "# sep"
   ]
  },
  {
   "cell_type": "code",
   "execution_count": 7,
   "id": "c5a71817-b885-4509-8672-f94c098851cf",
   "metadata": {},
   "outputs": [
    {
     "name": "stdout",
     "output_type": "stream",
     "text": [
      "1020\n"
     ]
    }
   ],
   "source": [
    "print(a,b,sep=\"\")"
   ]
  },
  {
   "cell_type": "code",
   "execution_count": 8,
   "id": "091996bb-593a-4140-a609-1ce752aee441",
   "metadata": {},
   "outputs": [
    {
     "name": "stdout",
     "output_type": "stream",
     "text": [
      "10$20$30\n"
     ]
    }
   ],
   "source": [
    "print(a,b,c,sep=\"$\")"
   ]
  },
  {
   "cell_type": "code",
   "execution_count": 9,
   "id": "776a32f9-484f-49fd-9d53-b5bd6914b636",
   "metadata": {},
   "outputs": [
    {
     "name": "stdout",
     "output_type": "stream",
     "text": [
      "10=20=30\n"
     ]
    }
   ],
   "source": [
    "print(a,b,c,sep=\"=\")"
   ]
  },
  {
   "cell_type": "code",
   "execution_count": 10,
   "id": "5f17f127-4fb5-4728-bf13-0d5ee45082e8",
   "metadata": {},
   "outputs": [
    {
     "name": "stdout",
     "output_type": "stream",
     "text": [
      "10,20,30\n"
     ]
    }
   ],
   "source": [
    "print(a,b,c,sep=\",\")"
   ]
  },
  {
   "cell_type": "markdown",
   "id": "fe03da00-de26-43a5-9184-a9fde5e25dcd",
   "metadata": {},
   "source": [
    "# input function"
   ]
  },
  {
   "cell_type": "code",
   "execution_count": 11,
   "id": "abded09c-7ff3-4f40-8595-7502c1c0c7be",
   "metadata": {},
   "outputs": [
    {
     "name": "stdin",
     "output_type": "stream",
     "text": [
      " 20 \n"
     ]
    },
    {
     "data": {
      "text/plain": [
       "'20 '"
      ]
     },
     "execution_count": 11,
     "metadata": {},
     "output_type": "execute_result"
    }
   ],
   "source": [
    "input()"
   ]
  },
  {
   "cell_type": "code",
   "execution_count": 12,
   "id": "88f4549f-6612-4276-a63d-dd60461ec053",
   "metadata": {},
   "outputs": [
    {
     "name": "stdin",
     "output_type": "stream",
     "text": [
      "enter first number:  12\n"
     ]
    }
   ],
   "source": [
    "a=input(\"enter first number: \")"
   ]
  },
  {
   "cell_type": "code",
   "execution_count": 13,
   "id": "953863dd-d1a8-4805-afc4-ac771036f784",
   "metadata": {},
   "outputs": [
    {
     "name": "stdout",
     "output_type": "stream",
     "text": [
      "12\n"
     ]
    }
   ],
   "source": [
    "print(a)"
   ]
  },
  {
   "cell_type": "code",
   "execution_count": 14,
   "id": "d37cc78f-4a9e-41bf-ba30-88643043dca6",
   "metadata": {},
   "outputs": [
    {
     "data": {
      "text/plain": [
       "str"
      ]
     },
     "execution_count": 14,
     "metadata": {},
     "output_type": "execute_result"
    }
   ],
   "source": [
    "type(a)"
   ]
  },
  {
   "cell_type": "code",
   "execution_count": 15,
   "id": "9d0bf205-1135-4f77-8e39-aaf51654c0ff",
   "metadata": {},
   "outputs": [
    {
     "name": "stdout",
     "output_type": "stream",
     "text": [
      "0.5\n"
     ]
    }
   ],
   "source": [
    "a=10\n",
    "b=20\n",
    "c=a/b\n",
    "print(c)"
   ]
  },
  {
   "cell_type": "code",
   "execution_count": 16,
   "id": "6563be38-a45e-4301-83cc-0f2e2d6c068d",
   "metadata": {},
   "outputs": [
    {
     "ename": "ZeroDivisionError",
     "evalue": "division by zero",
     "output_type": "error",
     "traceback": [
      "\u001b[1;31m---------------------------------------------------------------------------\u001b[0m",
      "\u001b[1;31mZeroDivisionError\u001b[0m                         Traceback (most recent call last)",
      "Cell \u001b[1;32mIn[16], line 3\u001b[0m\n\u001b[0;32m      1\u001b[0m a\u001b[38;5;241m=\u001b[39m\u001b[38;5;241m10\u001b[39m\n\u001b[0;32m      2\u001b[0m b\u001b[38;5;241m=\u001b[39m\u001b[38;5;241m0\u001b[39m\n\u001b[1;32m----> 3\u001b[0m c\u001b[38;5;241m=\u001b[39ma\u001b[38;5;241m/\u001b[39mb\n\u001b[0;32m      4\u001b[0m \u001b[38;5;28mprint\u001b[39m(c)\n",
      "\u001b[1;31mZeroDivisionError\u001b[0m: division by zero"
     ]
    }
   ],
   "source": [
    "a=10\n",
    "b=0\n",
    "c=a/b\n",
    "print(c)"
   ]
  },
  {
   "cell_type": "code",
   "execution_count": null,
   "id": "9bf1c1af-a0c5-4e21-8737-d40fc5a2aa07",
   "metadata": {},
   "outputs": [],
   "source": [
    " "
   ]
  }
 ],
 "metadata": {
  "kernelspec": {
   "display_name": "Python 3 (ipykernel)",
   "language": "python",
   "name": "python3"
  },
  "language_info": {
   "codemirror_mode": {
    "name": "ipython",
    "version": 3
   },
   "file_extension": ".py",
   "mimetype": "text/x-python",
   "name": "python",
   "nbconvert_exporter": "python",
   "pygments_lexer": "ipython3",
   "version": "3.11.5"
  },
  "widgets": {
   "application/vnd.jupyter.widget-state+json": {
    "state": {},
    "version_major": 2,
    "version_minor": 0
   }
  }
 },
 "nbformat": 4,
 "nbformat_minor": 5
}
